{
  "cells": [
    {
      "cell_type": "markdown",
      "source": [
        "> 1. DUPLICATE THIS COLAB TO START WORKING ON IT. Using File > Save a copy to drive.\n",
        "> 2. SET THE \"General Access\" OF THE COPIED NOTEBOOK TO \"Anyone with the link\" BY CLICKING ON \"Share\" TO ENABLE SHARING WITH YOUR PEERS FOR REVIEW.\n",
        "\n",
        "\n",
        "### This project is from the *Causal Inference for Data Science course on CoRise.* Learn more about the course [here](https://corise.com/course/causal-inference-for-data-science).\n",
        "\n",
        "\n",
        "\n",
        "---\n",
        "\n",
        "\n",
        "\n"
      ],
      "metadata": {
        "id": "CyRFy97ybrlb"
      },
      "id": "CyRFy97ybrlb"
    },
    {
      "cell_type": "markdown",
      "id": "2f6aa97f",
      "metadata": {
        "id": "2f6aa97f"
      },
      "source": [
        "# Week 4 Code\n",
        "***"
      ]
    },
    {
      "cell_type": "code",
      "source": [
        "#%pip install econml\n",
        "#%pip install stargazer"
      ],
      "metadata": {
        "id": "B5zKBQo0oC6s"
      },
      "id": "B5zKBQo0oC6s",
      "execution_count": null,
      "outputs": []
    },
    {
      "cell_type": "code",
      "execution_count": null,
      "id": "b5c3befe",
      "metadata": {
        "id": "b5c3befe"
      },
      "outputs": [],
      "source": [
        "import numpy as np\n",
        "import pandas as pd\n",
        "import matplotlib.pyplot as plt\n",
        "import seaborn as sns\n",
        "sns.set(font_scale=1.5)\n",
        "from IPython.core.display import HTML\n",
        "from econml.dml import DML, LinearDML, CausalForestDML\n",
        "from sklearn.model_selection import GridSearchCV\n",
        "from sklearn.ensemble import RandomForestClassifier, RandomForestRegressor\n",
        "import xgboost as xgb\n",
        "import statsmodels.api as sm\n",
        "import statsmodels.formula.api as smf\n",
        "from stargazer.stargazer import Stargazer"
      ]
    },
    {
      "cell_type": "markdown",
      "source": [
        "# Load Data Set"
      ],
      "metadata": {
        "id": "CMW9nHr0_yjK"
      },
      "id": "CMW9nHr0_yjK"
    },
    {
      "cell_type": "code",
      "source": [
        "# dat = pd.read_csv('crime_data_week_4.csv')\n",
        "\n",
        "# What is the dimension of the data set? Why might double machine learning / causal forests be better in this situation?"
      ],
      "metadata": {
        "id": "QeRFoKpmFipC"
      },
      "id": "QeRFoKpmFipC",
      "execution_count": null,
      "outputs": []
    },
    {
      "cell_type": "markdown",
      "source": [
        "# Does more expensive housing in a community cause more violent crime?"
      ],
      "metadata": {
        "id": "x0oawDh6oqwI"
      },
      "id": "x0oawDh6oqwI"
    },
    {
      "cell_type": "markdown",
      "id": "62b70e48",
      "metadata": {
        "id": "62b70e48"
      },
      "source": [
        "## OLS Estimate"
      ]
    },
    {
      "cell_type": "code",
      "execution_count": null,
      "id": "e4fade91",
      "metadata": {
        "id": "e4fade91"
      },
      "outputs": [],
      "source": [
        "# Fit three OLS models, starting with a univariate model and adding more and more controls\n",
        "# Set the Y / Outcome variable as ViolentCrimesPerPop and T / Treatment variable as MedRentPctHousInc\n",
        "# Comment on the significance and stability of the estimated treatment effect across models\n",
        "\n",
        "# What do you conclude as an answer to the main question?"
      ]
    },
    {
      "cell_type": "markdown",
      "id": "e9766fda",
      "metadata": {
        "id": "e9766fda"
      },
      "source": [
        "# Double Machine Learning"
      ]
    },
    {
      "cell_type": "code",
      "execution_count": null,
      "id": "df9f092b",
      "metadata": {
        "id": "df9f092b"
      },
      "outputs": [],
      "source": [
        "# Create df for dml\n",
        "# t_dml = # Treatment Column\n",
        "# y_dml = Outcome Column\n",
        "# X_dml = X / Confounder / Control variables for model; make sure to drop outcome, treatment, and other variables from here!\n",
        "\n",
        "# Set hyperparameters and optimization for first stage of dml; both outcome and propensity\n",
        "# Feel free to change sets of parameters below to play around with optimization if you want; these are reasonable defaults\n",
        "# y_first_stage = lambda: GridSearchCV (estimator=xgb.XGBRegressor(objective ='reg:squarederror'),\n",
        "#     param_grid={\n",
        "#        'max_depth': [1, 2, 5, 10],\n",
        "#        'n_estimators': [5, 10, 25],\n",
        "#        'learning_rate': [0.1, 0.3, 0.5]\n",
        "#     }, cv=2, scoring='neg_mean_absolute_error')\n",
        "# t_first_stage = lambda: GridSearchCV (estimator=xgb.XGBRegressor(objective='reg:squarederror'),\n",
        "#     param_grid={\n",
        "#        'max_depth': [1, 2, 5, 10],\n",
        "#        'n_estimators': [5, 10, 25],\n",
        "#        'learning_rate': [0.1, 0.3, 0.5]\n",
        "#     }, cv=2, scoring='neg_mean_absolute_error')"
      ]
    },
    {
      "cell_type": "code",
      "execution_count": null,
      "id": "58daac68",
      "metadata": {
        "id": "58daac68"
      },
      "outputs": [],
      "source": [
        "# Estimate dml model using cross validation to tune first stage above\n",
        "# est = LinearDML(model_y=y_first_stage(), model_t=t_first_stage(), discrete_treatment=False,cv=2, random_state=44)\n",
        "# est.fit(Y=y_dml, T=t_dml, W=X_dml)"
      ]
    },
    {
      "cell_type": "code",
      "execution_count": null,
      "id": "51fc8aa7",
      "metadata": {
        "id": "51fc8aa7"
      },
      "outputs": [],
      "source": [
        "# Average treatment effect of dml\n",
        "# est.ate_inference().summary()\n",
        "\n",
        "# What do you conclude as an answer to the main question?"
      ]
    },
    {
      "cell_type": "markdown",
      "id": "155b1394",
      "metadata": {
        "id": "155b1394"
      },
      "source": [
        "# Causal Forests"
      ]
    },
    {
      "cell_type": "code",
      "execution_count": null,
      "id": "1df5142a",
      "metadata": {
        "id": "1df5142a"
      },
      "outputs": [],
      "source": [
        "# Estimate causal forest model on residuals from above; note here we include all X variables as potential heterogeneous dimensions\n",
        "# est_hte = CausalForestDML(model_y=y_first_stage(), model_t=t_first_stage(), criterion='mse', n_estimators=100, discrete_treatment=False, cv=2, random_state=44)\n",
        "# est_hte.fit(Y=y_dml, T=t_dml, X=X_dml, W=X_dml)"
      ]
    },
    {
      "cell_type": "code",
      "execution_count": null,
      "id": "fcd7aa10",
      "metadata": {
        "id": "fcd7aa10"
      },
      "outputs": [],
      "source": [
        "# Average treatment effect of causal forest\n",
        "# est_hte.ate_inference(X_dml).summary()\n",
        "\n",
        "# What do you conclude as an answer to the main question?"
      ]
    },
    {
      "cell_type": "code",
      "execution_count": null,
      "id": "930d6f3c",
      "metadata": {
        "id": "930d6f3c"
      },
      "outputs": [],
      "source": [
        "# Extract per obs treatment effect estimate\n",
        "# treatment_eff = est_hte.effect(X_dml)\n",
        "# treatment_eff_lwr, treatment_eff_upr = est_hte.effect_interval(X_dml, alpha=0.05)"
      ]
    },
    {
      "cell_type": "code",
      "execution_count": null,
      "id": "f23c14db",
      "metadata": {
        "id": "f23c14db"
      },
      "outputs": [],
      "source": [
        "# Plot the heterogeneous treatment effects against at least 2 X variables. What do you conclude from the plots?\n",
        "# het_X_dim = 'Column Name'\n",
        "# sns.regplot(x=X_dml[het_X_dim], y=treatment_eff,  color=\"grey\", scatter_kws={\"s\": 10}, line_kws={\"color\":\"orange\",\"lw\":4} ,lowess=True)\n",
        "# plt.scatter(X_dml[het_X_dim], treatment_eff)\n",
        "# plt.xlabel(\"Confounder\")\n",
        "# plt.ylabel(\"Treatment Eff\")"
      ]
    }
  ],
  "metadata": {
    "hide_input": false,
    "kernelspec": {
      "display_name": "Python 3 (ipykernel)",
      "language": "python",
      "name": "python3"
    },
    "language_info": {
      "codemirror_mode": {
        "name": "ipython",
        "version": 3
      },
      "file_extension": ".py",
      "mimetype": "text/x-python",
      "name": "python",
      "nbconvert_exporter": "python",
      "pygments_lexer": "ipython3",
      "version": "3.7.12"
    },
    "colab": {
      "provenance": []
    }
  },
  "nbformat": 4,
  "nbformat_minor": 5
}